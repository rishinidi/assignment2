{
 "cells": [
  {
   "cell_type": "code",
   "execution_count": 1,
   "metadata": {},
   "outputs": [],
   "source": [
    "import pandas as pd\n",
    "from cassandra.cluster import Cluster"
   ]
  },
  {
   "cell_type": "code",
   "execution_count": 2,
   "metadata": {},
   "outputs": [],
   "source": [
    "clstr = Cluster()\n",
    "session = clstr.connect()"
   ]
  },
  {
   "cell_type": "code",
   "execution_count": 3,
   "metadata": {},
   "outputs": [
    {
     "data": {
      "text/plain": [
       "<cassandra.cluster.ResultSet at 0x7fd315442e30>"
      ]
     },
     "execution_count": 3,
     "metadata": {},
     "output_type": "execute_result"
    }
   ],
   "source": [
    "session.execute(\"DROP KEYSPACE IF EXISTS m14\")"
   ]
  },
  {
   "cell_type": "code",
   "execution_count": 4,
   "metadata": {},
   "outputs": [
    {
     "name": "stdout",
     "output_type": "stream",
     "text": [
      "system\n",
      "system_auth\n",
      "system_distributed\n",
      "system_schema\n",
      "system_traces\n",
      "system_views\n",
      "system_virtual_schema\n",
      "w04python\n"
     ]
    }
   ],
   "source": [
    "rows = session.execute(\"desc keyspaces\")\n",
    "for row in rows:\n",
    "    print(f\"{row[0]}\")"
   ]
  },
  {
   "cell_type": "code",
   "execution_count": 5,
   "metadata": {},
   "outputs": [
    {
     "data": {
      "text/plain": [
       "<cassandra.cluster.ResultSet at 0x7fd315440940>"
      ]
     },
     "execution_count": 5,
     "metadata": {},
     "output_type": "execute_result"
    }
   ],
   "source": [
    "session.execute(\"\"\"\n",
    "    CREATE KEYSPACE IF NOT EXISTS m14 WITH REPLICATION = {\n",
    "        'class':'SimpleStrategy', \n",
    "        'replication_factor':2\n",
    "    }\n",
    "\"\"\")"
   ]
  },
  {
   "cell_type": "code",
   "execution_count": 6,
   "metadata": {},
   "outputs": [
    {
     "name": "stdout",
     "output_type": "stream",
     "text": [
      "m14\n",
      "system\n",
      "system_auth\n",
      "system_distributed\n",
      "system_schema\n",
      "system_traces\n",
      "system_views\n",
      "system_virtual_schema\n",
      "w04python\n"
     ]
    }
   ],
   "source": [
    "rows = session.execute(\"desc keyspaces\")\n",
    "for row in rows:\n",
    "    print(f\"{row[0]}\")"
   ]
  },
  {
   "cell_type": "code",
   "execution_count": 7,
   "metadata": {},
   "outputs": [
    {
     "data": {
      "text/plain": [
       "<cassandra.cluster.ResultSet at 0x7fd315443e80>"
      ]
     },
     "execution_count": 7,
     "metadata": {},
     "output_type": "execute_result"
    }
   ],
   "source": [
    "session.execute(\"\"\"\n",
    "CREATE TABLE IF NOT EXISTS m14.inventory ( \n",
    "    SKU TEXT, \n",
    "    prod_name TEXT, \n",
    "    description TEXT, \n",
    "    warehouse_num INT, \n",
    "    PRIMARY KEY(SKU, warehouse_num)\n",
    ");\n",
    "\"\"\")"
   ]
  },
  {
   "cell_type": "code",
   "execution_count": 8,
   "metadata": {},
   "outputs": [
    {
     "data": {
      "text/html": [
       "<div>\n",
       "<style scoped>\n",
       "    .dataframe tbody tr th:only-of-type {\n",
       "        vertical-align: middle;\n",
       "    }\n",
       "\n",
       "    .dataframe tbody tr th {\n",
       "        vertical-align: top;\n",
       "    }\n",
       "\n",
       "    .dataframe thead th {\n",
       "        text-align: right;\n",
       "    }\n",
       "</style>\n",
       "<table border=\"1\" class=\"dataframe\">\n",
       "  <thead>\n",
       "    <tr style=\"text-align: right;\">\n",
       "      <th></th>\n",
       "      <th>SKU</th>\n",
       "      <th>prod_name</th>\n",
       "      <th>description</th>\n",
       "      <th>warehouse_num</th>\n",
       "    </tr>\n",
       "  </thead>\n",
       "  <tbody>\n",
       "    <tr>\n",
       "      <th>0</th>\n",
       "      <td>'AB1234'</td>\n",
       "      <td>'Laptop'</td>\n",
       "      <td>'MACBook Air'</td>\n",
       "      <td>1</td>\n",
       "    </tr>\n",
       "    <tr>\n",
       "      <th>1</th>\n",
       "      <td>'AB7854'</td>\n",
       "      <td>'Chair'</td>\n",
       "      <td>'Office chairs that are adjustable'</td>\n",
       "      <td>3</td>\n",
       "    </tr>\n",
       "    <tr>\n",
       "      <th>2</th>\n",
       "      <td>'DW6278'</td>\n",
       "      <td>'Printer'</td>\n",
       "      <td>'HP Smart Tank 5101 All-in-One Printer'</td>\n",
       "      <td>1</td>\n",
       "    </tr>\n",
       "    <tr>\n",
       "      <th>3</th>\n",
       "      <td>'GT9837'</td>\n",
       "      <td>'Cable'</td>\n",
       "      <td>'Electrical cables'</td>\n",
       "      <td>2</td>\n",
       "    </tr>\n",
       "    <tr>\n",
       "      <th>4</th>\n",
       "      <td>'FO9862'</td>\n",
       "      <td>'Table'</td>\n",
       "      <td>'Office tables-foldable'</td>\n",
       "      <td>3</td>\n",
       "    </tr>\n",
       "    <tr>\n",
       "      <th>5</th>\n",
       "      <td>'DW3728'</td>\n",
       "      <td>'Sofa'</td>\n",
       "      <td>'An L shape leather sofa set'</td>\n",
       "      <td>2</td>\n",
       "    </tr>\n",
       "    <tr>\n",
       "      <th>6</th>\n",
       "      <td>'SO5569'</td>\n",
       "      <td>'Bag'</td>\n",
       "      <td>'Converse Laptop Bag'</td>\n",
       "      <td>1</td>\n",
       "    </tr>\n",
       "    <tr>\n",
       "      <th>7</th>\n",
       "      <td>'SO8886'</td>\n",
       "      <td>'Hanger'</td>\n",
       "      <td>'Clothes hangers set of 12'</td>\n",
       "      <td>3</td>\n",
       "    </tr>\n",
       "    <tr>\n",
       "      <th>8</th>\n",
       "      <td>'WE9226'</td>\n",
       "      <td>'Mirror'</td>\n",
       "      <td>'Over the door mirror'</td>\n",
       "      <td>2</td>\n",
       "    </tr>\n",
       "    <tr>\n",
       "      <th>9</th>\n",
       "      <td>'EW6671'</td>\n",
       "      <td>'Phone'</td>\n",
       "      <td>'Iphone 14 pro max'</td>\n",
       "      <td>3</td>\n",
       "    </tr>\n",
       "  </tbody>\n",
       "</table>\n",
       "</div>"
      ],
      "text/plain": [
       "        SKU  prod_name                              description  warehouse_num\n",
       "0  'AB1234'   'Laptop'                            'MACBook Air'              1\n",
       "1  'AB7854'    'Chair'      'Office chairs that are adjustable'              3\n",
       "2  'DW6278'  'Printer'  'HP Smart Tank 5101 All-in-One Printer'              1\n",
       "3  'GT9837'    'Cable'                      'Electrical cables'              2\n",
       "4  'FO9862'    'Table'                 'Office tables-foldable'              3\n",
       "5  'DW3728'     'Sofa'            'An L shape leather sofa set'              2\n",
       "6  'SO5569'      'Bag'                    'Converse Laptop Bag'              1\n",
       "7  'SO8886'   'Hanger'              'Clothes hangers set of 12'              3\n",
       "8  'WE9226'   'Mirror'                   'Over the door mirror'              2\n",
       "9  'EW6671'    'Phone'                      'Iphone 14 pro max'              3"
      ]
     },
     "execution_count": 8,
     "metadata": {},
     "output_type": "execute_result"
    }
   ],
   "source": [
    "df = pd.read_csv('data.csv')\n",
    "df"
   ]
  },
  {
   "cell_type": "code",
   "execution_count": 9,
   "metadata": {},
   "outputs": [
    {
     "name": "stdout",
     "output_type": "stream",
     "text": [
      "SKU = 'AB1234', prod_name ='Laptop', description = 'MACBook Air', warehouse_num = 1\n",
      "SKU = 'AB7854', prod_name ='Chair', description = 'Office chairs that are adjustable', warehouse_num = 3\n",
      "SKU = 'DW6278', prod_name ='Printer', description = 'HP Smart Tank 5101 All-in-One Printer', warehouse_num = 1\n",
      "SKU = 'GT9837', prod_name ='Cable', description = 'Electrical cables', warehouse_num = 2\n",
      "SKU = 'FO9862', prod_name ='Table', description = 'Office tables-foldable', warehouse_num = 3\n",
      "SKU = 'DW3728', prod_name ='Sofa', description = 'An L shape leather sofa set', warehouse_num = 2\n",
      "SKU = 'SO5569', prod_name ='Bag', description = 'Converse Laptop Bag', warehouse_num = 1\n",
      "SKU = 'SO8886', prod_name ='Hanger', description = 'Clothes hangers set of 12', warehouse_num = 3\n",
      "SKU = 'WE9226', prod_name ='Mirror', description = 'Over the door mirror', warehouse_num = 2\n",
      "SKU = 'EW6671', prod_name ='Phone', description = 'Iphone 14 pro max', warehouse_num = 3\n"
     ]
    }
   ],
   "source": [
    "for index, row in df.iterrows():\n",
    "    print(f\"SKU = {row.SKU}, prod_name ={row.prod_name}, description = {row.description}, warehouse_num = {row.warehouse_num}\")"
   ]
  },
  {
   "cell_type": "code",
   "execution_count": 10,
   "metadata": {},
   "outputs": [
    {
     "name": "stdout",
     "output_type": "stream",
     "text": [
      "\n",
      "        INSERT INTO m14.inventory (SKU, prod_name, description, warehouse_num)     \n",
      "        VALUES ('AB1234', 'Laptop', 'MACBook Air', 1);\n",
      "        \n",
      "\n",
      "        INSERT INTO m14.inventory (SKU, prod_name, description, warehouse_num)     \n",
      "        VALUES ('AB7854', 'Chair', 'Office chairs that are adjustable', 3);\n",
      "        \n",
      "\n",
      "        INSERT INTO m14.inventory (SKU, prod_name, description, warehouse_num)     \n",
      "        VALUES ('DW6278', 'Printer', 'HP Smart Tank 5101 All-in-One Printer', 1);\n",
      "        \n",
      "\n",
      "        INSERT INTO m14.inventory (SKU, prod_name, description, warehouse_num)     \n",
      "        VALUES ('GT9837', 'Cable', 'Electrical cables', 2);\n",
      "        \n",
      "\n",
      "        INSERT INTO m14.inventory (SKU, prod_name, description, warehouse_num)     \n",
      "        VALUES ('FO9862', 'Table', 'Office tables-foldable', 3);\n",
      "        \n",
      "\n",
      "        INSERT INTO m14.inventory (SKU, prod_name, description, warehouse_num)     \n",
      "        VALUES ('DW3728', 'Sofa', 'An L shape leather sofa set', 2);\n",
      "        \n",
      "\n",
      "        INSERT INTO m14.inventory (SKU, prod_name, description, warehouse_num)     \n",
      "        VALUES ('SO5569', 'Bag', 'Converse Laptop Bag', 1);\n",
      "        \n",
      "\n",
      "        INSERT INTO m14.inventory (SKU, prod_name, description, warehouse_num)     \n",
      "        VALUES ('SO8886', 'Hanger', 'Clothes hangers set of 12', 3);\n",
      "        \n",
      "\n",
      "        INSERT INTO m14.inventory (SKU, prod_name, description, warehouse_num)     \n",
      "        VALUES ('WE9226', 'Mirror', 'Over the door mirror', 2);\n",
      "        \n",
      "\n",
      "        INSERT INTO m14.inventory (SKU, prod_name, description, warehouse_num)     \n",
      "        VALUES ('EW6671', 'Phone', 'Iphone 14 pro max', 3);\n",
      "        \n"
     ]
    }
   ],
   "source": [
    "for index, row in df.iterrows():\n",
    "    print(f\"\"\"\n",
    "        INSERT INTO m14.inventory (SKU, prod_name, description, warehouse_num)     \n",
    "        VALUES ({row.SKU}, {row.prod_name}, {row.description}, {row.warehouse_num});\n",
    "        \"\"\"\n",
    "    )\n",
    "    session.execute(f\"\"\"\n",
    "        INSERT INTO m14.inventory (SKU, prod_name, description, warehouse_num)     \n",
    "        VALUES ({row.SKU}, {row.prod_name}, {row.description}, {row.warehouse_num});\n",
    "        \"\"\"\n",
    "    )"
   ]
  },
  {
   "cell_type": "code",
   "execution_count": 11,
   "metadata": {},
   "outputs": [
    {
     "name": "stdout",
     "output_type": "stream",
     "text": [
      "SKU=GT9837, prod_name=Cable, description=Electrical cables, warehouse_num=2\n",
      "SKU=FO9862, prod_name=Table, description=Office tables-foldable, warehouse_num=3\n",
      "SKU=DW3728, prod_name=Sofa, description=An L shape leather sofa set, warehouse_num=2\n",
      "SKU=SO5569, prod_name=Bag, description=Converse Laptop Bag, warehouse_num=1\n",
      "SKU=SO8886, prod_name=Hanger, description=Clothes hangers set of 12, warehouse_num=3\n",
      "SKU=WE9226, prod_name=Mirror, description=Over the door mirror, warehouse_num=2\n",
      "SKU=DW6278, prod_name=Printer, description=HP Smart Tank 5101 All-in-One Printer, warehouse_num=1\n",
      "SKU=AB1234, prod_name=Laptop, description=MACBook Air, warehouse_num=1\n",
      "SKU=EW6671, prod_name=Phone, description=Iphone 14 pro max, warehouse_num=3\n",
      "SKU=AB7854, prod_name=Chair, description=Office chairs that are adjustable, warehouse_num=3\n"
     ]
    }
   ],
   "source": [
    "rows = session.execute(\"select (SKU, prod_name, description, warehouse_num) from m14.inventory\")\n",
    "for row in rows:\n",
    "    print(f\"SKU={row[0][0]}, prod_name={row[0][1]}, description={row[0][2]}, warehouse_num={row[0][3]}\")\n"
   ]
  },
  {
   "cell_type": "code",
   "execution_count": 12,
   "metadata": {},
   "outputs": [
    {
     "data": {
      "text/plain": [
       "<cassandra.cluster.ResultSet at 0x7fd2da0ddcc0>"
      ]
     },
     "execution_count": 12,
     "metadata": {},
     "output_type": "execute_result"
    }
   ],
   "source": [
    "# Create an index on warehouse_num in the inventory table\n",
    "session.execute(\"\"\"\n",
    "CREATE INDEX IF NOT EXISTS warehouse_num\n",
    "ON m14.inventory (warehouse_num);\n",
    "\"\"\")"
   ]
  },
  {
   "cell_type": "code",
   "execution_count": 13,
   "metadata": {},
   "outputs": [
    {
     "name": "stdout",
     "output_type": "stream",
     "text": [
      "GT9837, Cable, Electrical cables, 2\n",
      "DW3728, Sofa, An L shape leather sofa set, 2\n",
      "WE9226, Mirror, Over the door mirror, 2\n"
     ]
    }
   ],
   "source": [
    "rows = session.execute(\"SELECT (sku, prod_name, description, warehouse_num) FROM m14.inventory WHERE warehouse_num = 2 \")\n",
    "for row in rows:\n",
    "    print(f\"{row[0][0]}, {row[0][1]}, {row[0][2]}, {row[0][3]}\")"
   ]
  }
 ],
 "metadata": {
  "kernelspec": {
   "display_name": "base",
   "language": "python",
   "name": "python3"
  },
  "language_info": {
   "codemirror_mode": {
    "name": "ipython",
    "version": 3
   },
   "file_extension": ".py",
   "mimetype": "text/x-python",
   "name": "python",
   "nbconvert_exporter": "python",
   "pygments_lexer": "ipython3",
   "version": "3.10.13"
  },
  "orig_nbformat": 4
 },
 "nbformat": 4,
 "nbformat_minor": 2
}
